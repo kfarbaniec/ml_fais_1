{
 "cells": [
  {
   "cell_type": "markdown",
   "metadata": {},
   "source": []
  },
  {
   "cell_type": "code",
   "execution_count": 1,
   "metadata": {},
   "outputs": [],
   "source": [
    "# assume \n",
    "## labels are valid values of predistions\n",
    "## assignation are results of our prediction\n",
    "## data_set is data to cluster\n",
    "\n",
    "#\n",
    "# 2TP / (2TP + FP + FN)\n",
    "#\n",
    "# https://en.wikipedia.org/wiki/S%C3%B8rensen%E2%80%93Dice_coefficient\n",
    "# \n",
    "\n",
    "def czekanowski_dice_index(data_set,assignation,labels):\n",
    "    assigned_groups = []\n",
    "#     print(assignation)\n",
    "    for el in range(len(assignation)):\n",
    "        group_id = np.argmax(assignation[el])\n",
    "        assigned_groups.append(group_id)\n",
    "        # 0, 1, 2\n",
    "    TP = 0\n",
    "    FPN = 0\n",
    "    for k in range(len(assigned_groups)):\n",
    "        if assigned_groups[k] == labels[k]:\n",
    "            TP += 1\n",
    "        else:\n",
    "            FPN += 1\n",
    "    return 2*TP / float( 2*TP + FPN )"
   ]
  },
  {
   "cell_type": "code",
   "execution_count": null,
   "metadata": {},
   "outputs": [],
   "source": []
  }
 ],
 "metadata": {
  "kernelspec": {
   "display_name": "Python 3",
   "language": "python",
   "name": "python3"
  },
  "language_info": {
   "codemirror_mode": {
    "name": "ipython",
    "version": 3
   },
   "file_extension": ".py",
   "mimetype": "text/x-python",
   "name": "python",
   "nbconvert_exporter": "python",
   "pygments_lexer": "ipython3",
   "version": "3.6.5"
  }
 },
 "nbformat": 4,
 "nbformat_minor": 2
}
