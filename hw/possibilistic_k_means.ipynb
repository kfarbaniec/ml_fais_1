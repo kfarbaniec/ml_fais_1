{
 "cells": [
  {
   "cell_type": "markdown",
   "metadata": {},
   "source": [
    "# Clustering\n",
    "\n",
    "In this course we go through clustering methods. It is divided into few parts:\n",
    "1. Distributed clustering: \n",
    "    - K-means (HCM)\n",
    "    - Fuzzy clustering (FCM)\n",
    "    - Possibilistic clustering (PCM)\n",
    "2. Hierarhical clustering: \n",
    "    - agglomerative\n",
    "    - divisive\n",
    "3. Density-based clustering\n",
    "4. Quality metrics\n",
    "5. Image segmentation"
   ]
  },
  {
   "cell_type": "markdown",
   "metadata": {},
   "source": [
    "## Distributed clustering\n",
    "\n",
    "We have three types of distributed clustering. The most known method is called k-means and assign each case to one cluster strictly."
   ]
  },
  {
   "cell_type": "markdown",
   "metadata": {},
   "source": [
    "### K-means\n",
    "\n",
    "Is also known as hard c-means where k is the same as c and are the number of clusters that we are willing to divide the data set to. The steps of hcm are like following:\n",
    "1. choose the entrance cluster centroids,\n",
    "2. item calculate the assignation matrix $U$,\n",
    "3. item calculate new centroids matrix $V$,\n",
    "4. calculate the difference between previously assignation matrix $U$ and the new one calculated in current iteration.\n",
    "\n",
    "\n",
    "Let's use the data set from the lecture:"
   ]
  },
  {
   "cell_type": "markdown",
   "metadata": {},
   "source": [
    "|**Aircraft name** | **Distance range (km)** | **Seats count** | **Aircraft type** |\n",
    "|------------------|-------------------------|-----------------|-------------------|\n",
    "| Cesna 510 Mustang| 1940                    |             4   | private jet       |\n",
    "| Falcon 10/100    | 2960                    |             9   | private jet       |\n",
    "| Hawker 900/900XP | 4630                    |             9   | private jet       |\n",
    "| ATR 72-600       | 1528                    |            78   | medium size aircraft|\n",
    "| Bombardier Dash 8 Q400 | 2040              |            90   | medium size aircraft|\n",
    "| Embraer ERJ145 XR| 3700                    |            50   | medium size aircraft|\n",
    "| Boeing 747-8     | 14815                   |           467   | jet airliner      |\n",
    "| A380-800         | 15200                   |           509   | jet airliner      |\n",
    "| Boeing 787-8     | 15700                   |           290   | jet airliner      |\n",
    "| Boeing 737-900ER | 6045                    |           215   | jet airliner      | \n",
    "\n",
    "\n",
    "Let's import two libraries that are needed to plot the data."
   ]
  },
  {
   "cell_type": "code",
   "execution_count": 1,
   "metadata": {},
   "outputs": [],
   "source": [
    "import matplotlib.pyplot as plt\n",
    "import numpy as np"
   ]
  },
  {
   "cell_type": "markdown",
   "metadata": {},
   "source": [
    "Now, we are ready to plot:"
   ]
  },
  {
   "cell_type": "code",
   "execution_count": 2,
   "metadata": {},
   "outputs": [
    {
     "data": {
      "image/png": "[encoded data removed]",
      "text/plain": [
       "<Figure size 432x288 with 1 Axes>"
      ]
     },
     "metadata": {},
     "output_type": "display_data"
    }
   ],
   "source": [
    "X=np.array([(4,1940),(9,2960),(9,4630),(78,1528),(90,2040),(50,3700),(467,14815),(509,15200),(290,15700),(215,6045)])\n",
    "\n",
    "x1 = np.array(X[:,0])\n",
    "x2 = np.array(X[:,1])\n",
    "\n",
    "fig, ax = plt.subplots()\n",
    "ax.scatter(x1,x2)\n",
    "ax.set(xlabel='Seats count', ylabel='Distance range (km)',\n",
    "       title='Aircrafts')\n",
    "ax.grid()\n",
    "plt.show()"
   ]
  },
  {
   "cell_type": "markdown",
   "metadata": {},
   "source": [
    "Before we go to the next step, we need to normalize our dataset:"
   ]
  },
  {
   "cell_type": "code",
   "execution_count": 3,
   "metadata": {},
   "outputs": [],
   "source": [
    "train_data = np.array(X)\n",
    "max_values = train_data.max(0)\n",
    "\n",
    "X_norm = np.divide(train_data,max_values)"
   ]
  },
  {
   "cell_type": "markdown",
   "metadata": {},
   "source": [
    "Now, the data is between 0 and 1:"
   ]
  },
  {
   "cell_type": "code",
   "execution_count": 4,
   "metadata": {},
   "outputs": [
    {
     "name": "stdout",
     "output_type": "stream",
     "text": [
      "[[0.00785855 0.12356688]\n",
      " [0.01768173 0.18853503]\n",
      " [0.01768173 0.29490446]\n",
      " [0.15324165 0.09732484]\n",
      " [0.17681729 0.12993631]\n",
      " [0.09823183 0.23566879]\n",
      " [0.91748527 0.94363057]\n",
      " [1.         0.96815287]\n",
      " [0.5697446  1.        ]\n",
      " [0.42239686 0.38503185]]\n"
     ]
    }
   ],
   "source": [
    "print(X_norm)"
   ]
  },
  {
   "cell_type": "markdown",
   "metadata": {},
   "source": [
    "Before we start, we should setup a few variables like the assignation matrix, number of clusters, the error margin and feature space:"
   ]
  },
  {
   "cell_type": "code",
   "execution_count": 5,
   "metadata": {},
   "outputs": [],
   "source": [
    "data_set=X_norm\n",
    "groups = 2\n",
    "space=[[0,1],[0,1]]\n",
    "\n",
    "error_margin = 0.01\n",
    "m = 2.0\n",
    "\n",
    "assignation=np.zeros((len(X),groups))"
   ]
  },
  {
   "cell_type": "markdown",
   "metadata": {},
   "source": [
    "The assignation matrix if filled with zeros as we don't have any guess for assignation yet. We can also fill it randomly with 1 and 0 for each group. The assignation matrix looks like following:\n",
    "\n",
    "\\begin{equation*}\n",
    "U=\\begin{bmatrix}\n",
    "0 & 0 & 0 & 0 & 0 & 0 & 0 & 0 & 0 & 0\\\\\n",
    "0 & 0 & 0 & 0 & 0 & 0 & 0 & 0 & 0 & 0\\\\\n",
    "\\end{bmatrix}.\n",
    "\\end{equation*}\n",
    "\n",
    "\n",
    "It's time to generate centroid array randomly:\n",
    "\\begin{equation}\n",
    " V=[v_{1},v_{2},\\ldots,v_{c}].\n",
    "\\end{equation}\n",
    "\n",
    "We go through each group and add a random array of the feature space centroid positions:"
   ]
  },
  {
   "cell_type": "code",
   "execution_count": 6,
   "metadata": {},
   "outputs": [],
   "source": [
    "import random\n",
    "\n",
    "centers = []\n",
    "\n",
    "def select_centers():\n",
    "    global centers\n",
    "    global groups\n",
    "    global space\n",
    "    iter=0\n",
    "    while iter<groups:\n",
    "        centers.append((random.uniform(space[0][0],space[0][1]), \n",
    "                        random.uniform(space[1][0],space[1][1])))\n",
    "        iter=iter+1\n",
    "        \n",
    "select_centers()"
   ]
  },
  {
   "cell_type": "markdown",
   "metadata": {},
   "source": [
    "Let's take a look what centroids do we have:"
   ]
  },
  {
   "cell_type": "code",
   "execution_count": 7,
   "metadata": {},
   "outputs": [
    {
     "name": "stdout",
     "output_type": "stream",
     "text": [
      "[(0.3302198757342577, 0.9261233814794152), (0.8842291088595525, 0.6038625914563888)]\n"
     ]
    }
   ],
   "source": [
    "print(centers)"
   ]
  },
  {
   "cell_type": "markdown",
   "metadata": {},
   "source": [
    "To check what is the distance between the centroids and the elements of data set we use the Euclidean distance:\n",
    "\n",
    "\\begin{equation}\n",
    " \\rho_{Min}(x_{i},v_{j})=\\sqrt{\\sum_{i=1}^{d}(x_{i}-v_{j})^{2}}.\n",
    "\\end{equation}"
   ]
  },
  {
   "cell_type": "code",
   "execution_count": 8,
   "metadata": {},
   "outputs": [],
   "source": [
    "import math\n",
    "\n",
    "def calculate_distance(x,v):\n",
    "    return math.sqrt((x[0]-v[0])**2+(x[1]-v[1])**2)"
   ]
  },
  {
   "cell_type": "markdown",
   "metadata": {},
   "source": [
    "The next step is to calculate the new assignation matrix:\n",
    "\n",
    "\\begin{equation}\n",
    " \\mu_{ik}^{(t)}=\n",
    " \\begin{cases}\n",
    " 1 & \\text{if } d(x_{k},v_{i})<d(x_{k},v_{j}),  \\text{for each } j\\neq i\\\\\n",
    " 0 & \\text{in other case} \\\\\n",
    " \\end{cases}.\n",
    "\\end{equation}"
   ]
  },
  {
   "cell_type": "code",
   "execution_count": 9,
   "metadata": {},
   "outputs": [],
   "source": [
    "def calculate_u(x, i):\n",
    "    global centers\n",
    "    if calculate_distance(x, centers[0]) < calculate_distance(x, centers[1]):\n",
    "        return [1,0]\n",
    "    else:\n",
    "        return [0,1]"
   ]
  },
  {
   "cell_type": "markdown",
   "metadata": {},
   "source": [
    "The third step is to calculate new centroids based on the new assignation matrix $U$:\n",
    "\n",
    "\\begin{equation}\n",
    " v_{i}=\\frac{\\sum_{k=1}^{M}\\mu_{ik}^{(t)}x_{k}}{\\sum_{k=1}^{M}\\mu_{ik}^{(t)}}.\n",
    "\\end{equation}\n",
    "\n",
    "The calculation is done in two steps: u_x_vector and u_scalar:"
   ]
  },
  {
   "cell_type": "code",
   "execution_count": 10,
   "metadata": {},
   "outputs": [],
   "source": [
    "import sys\n",
    "\n",
    "def calculate_new_centers(u):\n",
    "    global centers\n",
    "    new_centers=[]\n",
    "    for c in range(groups):\n",
    "        u_x_vector=np.zeros(2)\n",
    "        u_scalar=sys.float_info.epsilon\n",
    "        for i in range(len(data_set)):\n",
    "            u_scalar = u_scalar+(u[i][c]**m) \n",
    "            u_x_vector=np.add(u_x_vector,np.multiply(u[i][c]**m,data_set[i]))\n",
    "        new_centers.append(np.divide(u_x_vector,u_scalar))\n",
    "    centers=new_centers"
   ]
  },
  {
   "cell_type": "markdown",
   "metadata": {},
   "source": [
    "We are almost done here. The last step before we cluster is to set the rule that allow us to stop the loop."
   ]
  },
  {
   "cell_type": "code",
   "execution_count": 11,
   "metadata": {},
   "outputs": [],
   "source": [
    "def calculate_differences(new_assignation):\n",
    "    global assignation    \n",
    "    return np.sum(np.abs(np.subtract(assignation,new_assignation)))"
   ]
  },
  {
   "cell_type": "markdown",
   "metadata": {},
   "source": [
    "It's time to combine all together:"
   ]
  },
  {
   "cell_type": "code",
   "execution_count": 12,
   "metadata": {},
   "outputs": [],
   "source": [
    "def cluster():\n",
    "    global assignation    \n",
    "    global error_margin\n",
    "    difference_limit_not_achieved=True\n",
    "    iter=0\n",
    "    while difference_limit_not_achieved:\n",
    "        new_assignation=[]\n",
    "        for i in range(len(data_set)):\n",
    "            new_assignation.append(calculate_u(data_set[i], iter))\n",
    "        calculate_new_centers(new_assignation)\n",
    "        if iter>0:\n",
    "            if calculate_differences(new_assignation) < error_margin:\n",
    "                difference_limit_not_achieved=False\n",
    "        assignation=new_assignation\n",
    "        iter=iter+1"
   ]
  },
  {
   "cell_type": "markdown",
   "metadata": {},
   "source": [
    "Ready to build some new clusters: "
   ]
  },
  {
   "cell_type": "code",
   "execution_count": 13,
   "metadata": {},
   "outputs": [],
   "source": [
    "cluster()"
   ]
  },
  {
   "cell_type": "markdown",
   "metadata": {},
   "source": [
    "The centers are like following:"
   ]
  },
  {
   "cell_type": "code",
   "execution_count": 14,
   "metadata": {},
   "outputs": [
    {
     "name": "stdout",
     "output_type": "stream",
     "text": [
      "[array([0.12770138, 0.20785259]), array([0.82907662, 0.97059448])]\n"
     ]
    }
   ],
   "source": [
    "print(centers)"
   ]
  },
  {
   "cell_type": "markdown",
   "metadata": {
    "collapsed": true
   },
   "source": [
    "And the assignation matrix looks like:"
   ]
  },
  {
   "cell_type": "code",
   "execution_count": 15,
   "metadata": {},
   "outputs": [
    {
     "name": "stdout",
     "output_type": "stream",
     "text": [
      "[[1, 0], [1, 0], [1, 0], [1, 0], [1, 0], [1, 0], [0, 1], [0, 1], [0, 1], [1, 0]]\n"
     ]
    }
   ],
   "source": [
    "print(assignation)"
   ]
  },
  {
   "cell_type": "markdown",
   "metadata": {},
   "source": [
    "To plot it, we need to develop a short function that adds some colors to our plot:"
   ]
  },
  {
   "cell_type": "code",
   "execution_count": 16,
   "metadata": {},
   "outputs": [],
   "source": [
    "red = X_norm[np.where(np.array(assignation)[:,0]==1)]\n",
    "blue = X_norm[np.where(np.array(assignation)[:,1]==1)]"
   ]
  },
  {
   "cell_type": "markdown",
   "metadata": {},
   "source": [
    "And finally plot the results:"
   ]
  },
  {
   "cell_type": "code",
   "execution_count": 17,
   "metadata": {},
   "outputs": [
    {
     "data": {
      "image/png": "[encoded data removed]",
      "text/plain": [
       "<Figure size 432x288 with 1 Axes>"
      ]
     },
     "metadata": {},
     "output_type": "display_data"
    }
   ],
   "source": [
    "fig, ax = plt.subplots()\n",
    "\n",
    "ax.scatter(blue[:,0],blue[:,1],c='blue')\n",
    "ax.scatter(red[:,0],red[:,1],c='red')\n",
    "ax.scatter(np.array(centers)[:,0],np.array(centers)[:,1],c='black')\n",
    "ax.set(xlabel='Seats count', ylabel='Distance range (km)',\n",
    "       title='Aircrafts (clusters)')\n",
    "ax.grid()\n",
    "plt.show()"
   ]
  },
  {
   "cell_type": "markdown",
   "metadata": {},
   "source": [
    "### Exercise 1: Modify the code to work for three groups (max. 15min.)\n",
    "\n",
    "The obvious part is the variable groups, but the most changes needs to be done here:"
   ]
  },
  {
   "cell_type": "code",
   "execution_count": 18,
   "metadata": {},
   "outputs": [],
   "source": [
    "groups = 3\n",
    "\n",
    "select_centers()\n",
    "\n",
    "def calculate_u_three(x):\n",
    "    global centers\n",
    "    global groups\n",
    "    u_array = np.zeros(groups)\n",
    "    minimal_distance = []\n",
    "    for group in range(groups):\n",
    "        minimal_distance.append(calculate_distance(x, centers[group]))\n",
    "    min_group_id = np.argmin(minimal_distance)\n",
    "    u_array[min_group_id] = 1\n",
    "    return u_array"
   ]
  },
  {
   "cell_type": "code",
   "execution_count": 19,
   "metadata": {},
   "outputs": [],
   "source": [
    "def cluster():\n",
    "    global assignation    \n",
    "    global error_margin\n",
    "    difference_limit_not_achieved=True\n",
    "    iter=0\n",
    "    while difference_limit_not_achieved:\n",
    "        new_assignation=[]\n",
    "        for i in range(len(data_set)):\n",
    "            new_assignation.append(calculate_u_three(data_set[i]))\n",
    "        calculate_new_centers(new_assignation)\n",
    "        if iter>0:\n",
    "            if calculate_differences(new_assignation) < error_margin:\n",
    "                difference_limit_not_achieved=False\n",
    "        assignation=new_assignation\n",
    "        iter=iter+1"
   ]
  },
  {
   "cell_type": "code",
   "execution_count": 20,
   "metadata": {},
   "outputs": [],
   "source": [
    "cluster()"
   ]
  },
  {
   "cell_type": "code",
   "execution_count": 21,
   "metadata": {},
   "outputs": [
    {
     "data": {
      "image/png": "[encoded data removed]",
      "text/plain": [
       "<Figure size 432x288 with 1 Axes>"
      ]
     },
     "metadata": {},
     "output_type": "display_data"
    }
   ],
   "source": [
    "red = X_norm[np.where(np.array(assignation)[:,0]==1)]\n",
    "blue = X_norm[np.where(np.array(assignation)[:,1]==1)]\n",
    "green = X_norm[np.where(np.array(assignation)[:,2]==1)]\n",
    "\n",
    "fig, ax = plt.subplots()\n",
    "\n",
    "ax.scatter(blue[:,0],blue[:,1],c='blue')\n",
    "ax.scatter(red[:,0],red[:,1],c='red')\n",
    "ax.scatter(green[:,0],green[:,1],c='green')\n",
    "ax.scatter(np.array(centers)[:,0],np.array(centers)[:,1],marker='x',c='black')\n",
    "ax.set(xlabel='Seats count', ylabel='Distance range (km)',\n",
    "       title='Aircrafts (clusters)')\n",
    "ax.grid()\n",
    "plt.show()"
   ]
  },
  {
   "cell_type": "markdown",
   "metadata": {},
   "source": [
    "Goals:\n",
    "1. Modify the calculate_u code.\n",
    "2. Modify the parameters.\n",
    "3. Execute the clustering.\n",
    "4. Plot the results."
   ]
  },
  {
   "cell_type": "markdown",
   "metadata": {},
   "source": [
    "## Fuzzy k-means\n",
    "\n",
    "The fuzzy implementation of k-means is a bit more complex and we need to modify the calculate_u function to be complient with the equation:"
   ]
  },
  {
   "cell_type": "markdown",
   "metadata": {},
   "source": [
    "\\begin{equation}\n",
    " \\mu_{ik}=(\\sum_{j=1}^{c}(\\frac{d(x_{k},v_{i})}{d(_{k},v_{j})})^{\\frac{2}{m-1}})^{-1}\n",
    "\\end{equation}"
   ]
  },
  {
   "cell_type": "code",
   "execution_count": 22,
   "metadata": {},
   "outputs": [],
   "source": [
    "def calculate_u(x,i):\n",
    "    global centers\n",
    "    if i == 0:\n",
    "        sum=1.0+(calculate_distance(x, centers[0])/calculate_distance(x, centers[1]))**2\n",
    "    else:\n",
    "        sum=1.0+(calculate_distance(x, centers[1])/calculate_distance(x, centers[0]))**2\n",
    "    return sum**-1"
   ]
  },
  {
   "cell_type": "code",
   "execution_count": 23,
   "metadata": {},
   "outputs": [],
   "source": [
    "assignation=np.zeros((len(X),groups))\n",
    "select_centers()"
   ]
  },
  {
   "cell_type": "code",
   "execution_count": 24,
   "metadata": {},
   "outputs": [],
   "source": [
    "def cluster():\n",
    "    global assignation    \n",
    "    global error_margin    \n",
    "    global groups\n",
    "    difference_limit_not_achieved=True\n",
    "    iter=0\n",
    "    while difference_limit_not_achieved:\n",
    "        new_assignation=[]\n",
    "        for i in range(len(data_set)):\n",
    "            new_assignation_vector=[]\n",
    "            for k in range(groups):\n",
    "                new_assignation_vector.append(calculate_u(data_set[i],k))\n",
    "            new_assignation.append(new_assignation_vector)\n",
    "        calculate_new_centers(new_assignation)\n",
    "\n",
    "        if iter>0:\n",
    "            if calculate_differences(new_assignation) < error_margin:\n",
    "                difference_limit_not_achieved=False\n",
    "        assignation=new_assignation\n",
    "        iter=iter+1"
   ]
  },
  {
   "cell_type": "code",
   "execution_count": 25,
   "metadata": {},
   "outputs": [],
   "source": [
    "cluster()"
   ]
  },
  {
   "cell_type": "code",
   "execution_count": 26,
   "metadata": {},
   "outputs": [
    {
     "name": "stdout",
     "output_type": "stream",
     "text": [
      "[array([0.11240345, 0.19895737]), array([0.83355421, 0.96018512]), array([0.83355421, 0.96018512])]\n"
     ]
    }
   ],
   "source": [
    "print(centers)"
   ]
  },
  {
   "cell_type": "code",
   "execution_count": 27,
   "metadata": {},
   "outputs": [
    {
     "name": "stdout",
     "output_type": "stream",
     "text": [
      "[[0.988129237870346, 0.011870762129654122, 0.011870762129654122], [0.9928583724612343, 0.007141627538765732, 0.007141627538765732], [0.9838616917835075, 0.016138308216492543, 0.016138308216492543], [0.9901616363260785, 0.009838363673921567, 0.009838363673921567], [0.9921054504662635, 0.00789454953373659, 0.00789454953373659], [0.9985475087584694, 0.001452491241530489, 0.001452491241530489], [0.006062795611197488, 0.9939372043888025, 0.9939372043888025], [0.019757884268114326, 0.9802421157318858, 0.9802421157318858], [0.07713251319115795, 0.9228674868088421, 0.9228674868088421], [0.7925835846169043, 0.20741641538309574, 0.20741641538309574]]\n"
     ]
    }
   ],
   "source": [
    "print(assignation)"
   ]
  },
  {
   "cell_type": "code",
   "execution_count": 28,
   "metadata": {},
   "outputs": [],
   "source": [
    "red = X_norm[np.where(np.array(assignation)[:,0]>0.5)]\n",
    "blue = X_norm[np.where(np.array(assignation)[:,1]>0.5)]"
   ]
  },
  {
   "cell_type": "code",
   "execution_count": 29,
   "metadata": {},
   "outputs": [
    {
     "data": {
      "image/png": "[encoded data removed]",
      "text/plain": [
       "<Figure size 432x288 with 1 Axes>"
      ]
     },
     "metadata": {},
     "output_type": "display_data"
    }
   ],
   "source": [
    "fig, ax = plt.subplots()\n",
    "\n",
    "ax.scatter(blue[:,0],blue[:,1],c='blue')\n",
    "ax.scatter(red[:,0],red[:,1],c='red')\n",
    "ax.scatter(np.array(centers)[:,0],np.array(centers)[:,1],c='black')\n",
    "ax.set(xlabel='Seats count', ylabel='Distance range (km)',\n",
    "       title='Aircrafts (clusters)')\n",
    "ax.grid()\n",
    "plt.show()"
   ]
  },
  {
   "cell_type": "markdown",
   "metadata": {},
   "source": [
    "# Homework: Implement possibilistic k-means\n",
    "#\n",
    "#\n",
    "#\n",
    "#\n",
    "\n",
    "Goal:\n",
    "1. Implement the mahalanobis_distance function.\n",
    "2. Implement the calculate_eta function.\n",
    "3. Implement the calculate_u.\n",
    "\n",
    "Hint: the assignation matrix should not be set to zeros at the beginning.\n",
    "\n",
    "**Deadline:** 4.04.2018 (11.04)"
   ]
  },
  {
   "cell_type": "code",
   "execution_count": 30,
   "metadata": {},
   "outputs": [],
   "source": [
    "# vi - center of centroid\n",
    "# xi - point \n",
    "def mahal_dist2(xi,vi,iV):\n",
    "    assert len(xi) == 2, \"mahal_dist function is defined for 2 dimensional elements\"\n",
    "    assert len(vi) == 2, \"mahal_dist function is defined for 2 dimensional elements\"\n",
    "    x = np.asarray(xi)\n",
    "    y = np.asarray(vi)\n",
    "    #return ( np.sqrt(  np.dot(  np.dot(  (x - y),iV  ) ,(x - y).T  )  ))\n",
    "    return ( np.dot(  np.dot(  (x - y),iV  ) ,(x - y).T  )  )\n",
    "    #"
   ]
  },
  {
   "cell_type": "code",
   "execution_count": 31,
   "metadata": {},
   "outputs": [],
   "source": [
    "# # TEST\n",
    "#\n",
    "# import scipy.spatial.distance as dist\n",
    "# u, v = [0.34, 0.45] , [0.36,0.48]\n",
    "# if is_invertible(cov):\n",
    "#     iV = np.linalg.inv()\n",
    "#     print(np.cov([u, v]))\n",
    "# else:\n",
    "#     exit(\"something is wrong with data\")\n",
    "# lib_result = dist.mahalanobis(u, v, iV)\n",
    "# my_result =  mahal_dist(u, v, iV)\n",
    "\n",
    "# print(\"MAHAL LIB: \" + str(lib_result))\n",
    "# print(\"MY IMPLEMENTATION: \" + str(my_result))\n"
   ]
  },
  {
   "cell_type": "code",
   "execution_count": 32,
   "metadata": {},
   "outputs": [],
   "source": [
    "# u - assignation matrix\n",
    "# iV - inverted covariance matrix from input dataset\n",
    "\n",
    "def calc_etha(u,iV):\n",
    "    etha_list = []\n",
    "\n",
    "    for i in range(len(data_set)):\n",
    "        u_scalar = sys.float_info.epsilon\n",
    "        u_scalar_denom = sys.float_info.epsilon\n",
    "        etha = sys.float_info.epsilon\n",
    "        for c in range(groups):        \n",
    "            u_scalar = u_scalar + (u[i][c]**m)\n",
    "            u_scalar_denom += u_scalar_denom + (u[i][c]**m)\n",
    "            u_scalar*=mahal_dist2(data_set[i], centers[c], iV)\n",
    "        etha_list.append(u_scalar / u_scalar_denom)\n",
    "        \n",
    "#     ethas = u_x_vector, (u[i][c]**m) * mahal_dist2(data_set[i], centers[]) ))\n",
    "\n",
    "    return etha_list\n"
   ]
  },
  {
   "cell_type": "code",
   "execution_count": 33,
   "metadata": {},
   "outputs": [],
   "source": [
    "def calc_pcm_u(xi, i, etha_i, D_ikA):\n",
    "    tmp = 1 + (D_ikA / etha_i)**(2/(m-1)) \n",
    "    return tmp**(-1)\n"
   ]
  },
  {
   "cell_type": "code",
   "execution_count": 34,
   "metadata": {},
   "outputs": [],
   "source": [
    "groups = 2\n",
    "            \n",
    "def cluster_possi():\n",
    "    global assignation    \n",
    "    global error_margin    \n",
    "    global groups\n",
    "    difference_limit_not_achieved=True\n",
    "    iter=0\n",
    "    data_array = np.asarray(data_set).T\n",
    "    cov_matrix = np.cov(data_array)\n",
    "    iV = np.linalg.inv(cov_matrix)\n",
    "    \n",
    "    while difference_limit_not_achieved:\n",
    "        new_assignation=[]\n",
    "        etha_list = calc_etha(assignation, iV)\n",
    "        \n",
    "        for i in range(len(data_set)):\n",
    "            new_assignation_vector=[]\n",
    "            for k in range(groups):\n",
    "                #\n",
    "                mahal_val = mahal_dist2(data_set[i], centers[k], iV)\n",
    "                new_assignation_vector.append(  calc_pcm_u(data_set[i], centers[k], etha_list[i], mahal_val )  )\n",
    "                \n",
    "            new_assignation.append(new_assignation_vector)\n",
    "            \n",
    "        calculate_new_centers(new_assignation)\n",
    "\n",
    "        if iter>0:\n",
    "            if calculate_differences(new_assignation) < error_margin:\n",
    "                difference_limit_not_achieved=False\n",
    "        assignation=new_assignation\n",
    "        iter=iter+1"
   ]
  },
  {
   "cell_type": "code",
   "execution_count": 35,
   "metadata": {},
   "outputs": [],
   "source": [
    "cluster_possi()"
   ]
  },
  {
   "cell_type": "code",
   "execution_count": 36,
   "metadata": {},
   "outputs": [
    {
     "name": "stdout",
     "output_type": "stream",
     "text": [
      "[array([0.13153714, 0.2031582 ]), array([0.6843508 , 0.85690647])]\n"
     ]
    }
   ],
   "source": [
    "print(centers)\n",
    "# print(groups)"
   ]
  },
  {
   "cell_type": "code",
   "execution_count": 37,
   "metadata": {},
   "outputs": [
    {
     "name": "stdout",
     "output_type": "stream",
     "text": [
      "[[0.7802673218990124, 0.005930616229411774], [0.7324632442628073, 0.04145744140532409], [0.7370016474377826, 0.41256604527535823], [0.8642983822557816, 0.09300362396170313], [0.8420130471458211, 0.06867216380878946], [0.6501463868901268, 0.006902594297498578], [0.05500095328750291, 0.5134655544438439], [0.169869785709585, 0.603223237665071], [0.16364118825709156, 0.6373442458908926], [0.6550717721053876, 0.17595332582501652]]\n"
     ]
    }
   ],
   "source": [
    "print(assignation)"
   ]
  },
  {
   "cell_type": "code",
   "execution_count": 38,
   "metadata": {},
   "outputs": [],
   "source": [
    "red = X_norm[np.where(np.array(assignation)[:,0]>0.5)]\n",
    "blue = X_norm[np.where(np.array(assignation)[:,1]>0.5)]"
   ]
  },
  {
   "cell_type": "code",
   "execution_count": 39,
   "metadata": {},
   "outputs": [
    {
     "data": {
      "image/png": "[encoded data removed]",
      "text/plain": [
       "<Figure size 432x288 with 1 Axes>"
      ]
     },
     "metadata": {},
     "output_type": "display_data"
    }
   ],
   "source": [
    "fig, ax = plt.subplots()\n",
    "\n",
    "ax.scatter(blue[:,0],blue[:,1],c='blue')\n",
    "ax.scatter(red[:,0],red[:,1],c='red')\n",
    "ax.scatter(np.array(centers)[:,0],np.array(centers)[:,1],c='black')\n",
    "ax.set(xlabel='Seats count', ylabel='Distance range (km)',\n",
    "       title='Aircrafts (clusters)')\n",
    "ax.grid()\n",
    "plt.show()"
   ]
  },
  {
   "cell_type": "markdown",
   "metadata": {},
   "source": [
    "## Density-based clustering\n",
    "\n",
    "In density-based clustering the approach is different compared to distributed clustering. We need to implement all functions from scratch. DBScan is an example of a density-based clustering method. The goal is to find all element where the neighborhood is defined as:\n",
    "\\begin{equation}\n",
    "    N_{\\epsilon}:{q|d(p,q)\\leq\\epsilon},\n",
    "\\end{equation}\n",
    "where $p$ and $q$ are two elements of the training data set and $\\epsilon$ is the neighborhood distance."
   ]
  },
  {
   "cell_type": "markdown",
   "metadata": {},
   "source": [
    "Let's setup the variables as in previous examples. The are three new ones like distance_matrix, max_distance and number_of_cluster. The first one is clear, the second is a parameter that can be changed, depending on that how many neighborhood elements we would like to concider. The last variable is about the number of clusters that are calculated during clustering. It's not the exact number of clusters, but allow us count the clusters during clustering."
   ]
  },
  {
   "cell_type": "code",
   "execution_count": 40,
   "metadata": {},
   "outputs": [],
   "source": [
    "data_set = X_norm\n",
    "assignation = np.zeros(len(data_set))\n",
    "distance_matrix = np.zeros((len(data_set), len(data_set)))\n",
    "max_distance = 0.2\n",
    "number_of_cluster = 0"
   ]
  },
  {
   "cell_type": "markdown",
   "metadata": {},
   "source": [
    "To calculate the distance matrix we use the calculate_distance that we used previously:"
   ]
  },
  {
   "cell_type": "code",
   "execution_count": 41,
   "metadata": {},
   "outputs": [],
   "source": [
    "def calculate_distance_matrix():\n",
    "    for i in range(len(data_set)):\n",
    "        for j in range(len(data_set)):\n",
    "            distance_matrix[i, j] = calculate_distance(data_set[i], data_set[j])"
   ]
  },
  {
   "cell_type": "markdown",
   "metadata": {},
   "source": [
    "The next step is to get closest elements in the feature space:"
   ]
  },
  {
   "cell_type": "code",
   "execution_count": 42,
   "metadata": {},
   "outputs": [],
   "source": [
    "import operator\n",
    "\n",
    "def get_closest_elements(element_id):\n",
    "    global distance_matrix\n",
    "    element_distances = distance_matrix[element_id]\n",
    "    element_keys = range(len(element_distances))\n",
    "    element_dict = {element_keys[i]: element_distances[i] for i in range(len(element_distances))}\n",
    "    return sorted(element_dict.items(), key=operator.itemgetter(1))"
   ]
  },
  {
   "cell_type": "markdown",
   "metadata": {},
   "source": [
    "Extract only elements within the distance area."
   ]
  },
  {
   "cell_type": "code",
   "execution_count": 43,
   "metadata": {},
   "outputs": [],
   "source": [
    "def elements_in_area(distance_vector):\n",
    "    global max_distance\n",
    "    for dist_id, distance in distance_vector:\n",
    "        if distance < max_distance:\n",
    "            distance_vector.pop(dist_id)\n",
    "    return distance_vector"
   ]
  },
  {
   "cell_type": "markdown",
   "metadata": {},
   "source": [
    "And filter the points that we have already visited."
   ]
  },
  {
   "cell_type": "code",
   "execution_count": 44,
   "metadata": {},
   "outputs": [],
   "source": [
    "def filter_visited(distances_vector):\n",
    "    iter=0\n",
    "    for dist_id, distance in distances_vector:\n",
    "        if assignation[dist_id] > 0:\n",
    "            distances_vector.pop(iter)\n",
    "        iter=iter+1\n",
    "    return distances_vector"
   ]
  },
  {
   "cell_type": "markdown",
   "metadata": {},
   "source": [
    "The last step before cluster function is to define funtions that mark the elements in our data set that are known to be a noise or were already visited by our method."
   ]
  },
  {
   "cell_type": "code",
   "execution_count": 45,
   "metadata": {},
   "outputs": [],
   "source": [
    "def is_not_visited(element_id):\n",
    "    global assignation\n",
    "    if assignation[element_id] > 0:\n",
    "        return False\n",
    "    return True\n",
    "\n",
    "def set_visited(element_id):\n",
    "    global assignation\n",
    "    assignation[element_id] = number_of_cluster\n",
    "\n",
    "def set_as_noise(element_id):\n",
    "    global assignation\n",
    "    assignation[element_id] = -1"
   ]
  },
  {
   "cell_type": "markdown",
   "metadata": {},
   "source": [
    "Combine it all together:"
   ]
  },
  {
   "cell_type": "code",
   "execution_count": 46,
   "metadata": {},
   "outputs": [],
   "source": [
    "def cluster():\n",
    "    global number_of_cluster\n",
    "    calculate_distance_matrix()\n",
    "    for i in range(len(data_set)):\n",
    "        if is_not_visited(i):\n",
    "            number_of_cluster = number_of_cluster + 1\n",
    "            close_elements = filter_visited(get_closest_elements(i))\n",
    "            distance_iter = 0\n",
    "            for dist_id, distance in close_elements:\n",
    "                if distance < max_distance:\n",
    "                    distance_iter = distance_iter + 1\n",
    "                    set_visited(dist_id)\n",
    "            if distance_iter == 1 :\n",
    "                set_as_noise(i)"
   ]
  },
  {
   "cell_type": "markdown",
   "metadata": {},
   "source": [
    "Ready to cluster:"
   ]
  },
  {
   "cell_type": "code",
   "execution_count": 47,
   "metadata": {},
   "outputs": [],
   "source": [
    "cluster()"
   ]
  },
  {
   "cell_type": "markdown",
   "metadata": {},
   "source": [
    "The number of cluster is:"
   ]
  },
  {
   "cell_type": "code",
   "execution_count": 48,
   "metadata": {},
   "outputs": [
    {
     "name": "stdout",
     "output_type": "stream",
     "text": [
      "Number of clusters: 3\n"
     ]
    }
   ],
   "source": [
    "print(\"Number of clusters: \"+ str(len(np.unique(assignation))))"
   ]
  },
  {
   "cell_type": "markdown",
   "metadata": {},
   "source": [
    "We can see it here as well:"
   ]
  },
  {
   "cell_type": "code",
   "execution_count": 49,
   "metadata": {},
   "outputs": [
    {
     "name": "stdout",
     "output_type": "stream",
     "text": [
      "[ 1.  1.  1.  1.  1.  1.  2.  2. -1. -1.]\n"
     ]
    }
   ],
   "source": [
    "print(assignation)"
   ]
  },
  {
   "cell_type": "markdown",
   "metadata": {},
   "source": [
    "### Exercise: Plot the feature space with all element marked with differnet color, depending on the cluster that it's assigned\n",
    "\n",
    "Use the code below to plot the results. You can play with the max_distance variable to get more or less groups."
   ]
  },
  {
   "cell_type": "code",
   "execution_count": 50,
   "metadata": {},
   "outputs": [
    {
     "ename": "SyntaxError",
     "evalue": "invalid syntax (<ipython-input-50-82bdbea0ba8d>, line 2)",
     "output_type": "error",
     "traceback": [
      "\u001b[0;36m  File \u001b[0;32m\"<ipython-input-50-82bdbea0ba8d>\"\u001b[0;36m, line \u001b[0;32m2\u001b[0m\n\u001b[0;31m    def get_colours(color_id)\u001b[0m\n\u001b[0m                             ^\u001b[0m\n\u001b[0;31mSyntaxError\u001b[0m\u001b[0;31m:\u001b[0m invalid syntax\n"
     ]
    }
   ],
   "source": [
    "# change the bel\n",
    "def get_colours(color_id)\n",
    "    global assignation\n",
    "    colors = ['red','blue','green','orange','black','yellow']\n",
    "    #red = X_norm[np.where(np.array(assignation)[:,0]>0.5)]\n",
    "    pass"
   ]
  },
  {
   "cell_type": "code",
   "execution_count": 51,
   "metadata": {},
   "outputs": [
    {
     "data": {
      "image/png": "[encoded data removed]",
      "text/plain": [
       "<Figure size 432x288 with 1 Axes>"
      ]
     },
     "metadata": {},
     "output_type": "display_data"
    }
   ],
   "source": [
    "fig, ax = plt.subplots()\n",
    "\n",
    "# your code or modifications comes here:\n",
    "ax.scatter(blue[:,0],blue[:,1],c='blue')\n",
    "ax.scatter(red[:,0],red[:,1],c='red')\n",
    "ax.scatter(np.array(centers)[:,0],np.array(centers)[:,1],c='black')\n",
    "# ends here\n",
    "ax.set(xlabel='Seats count', ylabel='Distance range (km)',\n",
    "       title='Aircrafts (clusters)')\n",
    "ax.grid()\n",
    "plt.show()"
   ]
  },
  {
   "cell_type": "code",
   "execution_count": null,
   "metadata": {},
   "outputs": [],
   "source": []
  }
 ],
 "metadata": {
  "kernelspec": {
   "display_name": "Python 3",
   "language": "python",
   "name": "python3"
  },
  "language_info": {
   "codemirror_mode": {
    "name": "ipython",
    "version": 3
   },
   "file_extension": ".py",
   "mimetype": "text/x-python",
   "name": "python",
   "nbconvert_exporter": "python",
   "pygments_lexer": "ipython3",
   "version": "3.6.5"
  }
 },
 "nbformat": 4,
 "nbformat_minor": 2
}
